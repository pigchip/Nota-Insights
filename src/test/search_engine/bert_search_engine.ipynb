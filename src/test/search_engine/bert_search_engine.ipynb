{
 "cells": [
  {
   "cell_type": "markdown",
   "metadata": {},
   "source": [
    "# Motor de Búsqueda con BERT en Español\n",
    "Este notebook implementa un motor de búsqueda utilizando el modelo BETO (BERT en Español).\n",
    "Procesa un corpus de noticias en formato CSV y realiza búsquedas basadas en la similitud del texto."
   ]
  },
  {
   "cell_type": "code",
   "execution_count": 1,
   "metadata": {},
   "outputs": [
    {
     "name": "stdout",
     "output_type": "stream",
     "text": [
      "Requirement already satisfied: transformers in c:\\users\\guzma\\appdata\\local\\programs\\python\\python312\\lib\\site-packages (4.47.0)Note: you may need to restart the kernel to use updated packages.\n",
      "\n",
      "Requirement already satisfied: torch in c:\\users\\guzma\\appdata\\local\\programs\\python\\python312\\lib\\site-packages (2.4.1)\n",
      "Requirement already satisfied: scikit-learn in c:\\users\\guzma\\appdata\\local\\programs\\python\\python312\\lib\\site-packages (1.5.2)\n",
      "Requirement already satisfied: pandas in c:\\users\\guzma\\appdata\\local\\programs\\python\\python312\\lib\\site-packages (2.2.2)\n",
      "Requirement already satisfied: filelock in c:\\users\\guzma\\appdata\\local\\programs\\python\\python312\\lib\\site-packages (from transformers) (3.16.1)\n",
      "Requirement already satisfied: huggingface-hub<1.0,>=0.24.0 in c:\\users\\guzma\\appdata\\local\\programs\\python\\python312\\lib\\site-packages (from transformers) (0.27.0)\n",
      "Requirement already satisfied: numpy>=1.17 in c:\\users\\guzma\\appdata\\local\\programs\\python\\python312\\lib\\site-packages (from transformers) (1.26.4)\n",
      "Requirement already satisfied: packaging>=20.0 in c:\\users\\guzma\\appdata\\local\\programs\\python\\python312\\lib\\site-packages (from transformers) (24.1)\n",
      "Requirement already satisfied: pyyaml>=5.1 in c:\\users\\guzma\\appdata\\local\\programs\\python\\python312\\lib\\site-packages (from transformers) (6.0.2)\n",
      "Requirement already satisfied: regex!=2019.12.17 in c:\\users\\guzma\\appdata\\local\\programs\\python\\python312\\lib\\site-packages (from transformers) (2024.9.11)\n",
      "Requirement already satisfied: requests in c:\\users\\guzma\\appdata\\local\\programs\\python\\python312\\lib\\site-packages (from transformers) (2.32.3)\n",
      "Requirement already satisfied: tokenizers<0.22,>=0.21 in c:\\users\\guzma\\appdata\\local\\programs\\python\\python312\\lib\\site-packages (from transformers) (0.21.0)\n",
      "Requirement already satisfied: safetensors>=0.4.1 in c:\\users\\guzma\\appdata\\local\\programs\\python\\python312\\lib\\site-packages (from transformers) (0.4.5)\n",
      "Requirement already satisfied: tqdm>=4.27 in c:\\users\\guzma\\appdata\\local\\programs\\python\\python312\\lib\\site-packages (from transformers) (4.66.5)\n",
      "Requirement already satisfied: typing-extensions>=4.8.0 in c:\\users\\guzma\\appdata\\local\\programs\\python\\python312\\lib\\site-packages (from torch) (4.12.2)\n",
      "Requirement already satisfied: sympy in c:\\users\\guzma\\appdata\\local\\programs\\python\\python312\\lib\\site-packages (from torch) (1.13.3)\n",
      "Requirement already satisfied: networkx in c:\\users\\guzma\\appdata\\local\\programs\\python\\python312\\lib\\site-packages (from torch) (3.3)\n",
      "Requirement already satisfied: jinja2 in c:\\users\\guzma\\appdata\\local\\programs\\python\\python312\\lib\\site-packages (from torch) (3.1.4)\n",
      "Requirement already satisfied: fsspec in c:\\users\\guzma\\appdata\\local\\programs\\python\\python312\\lib\\site-packages (from torch) (2024.9.0)\n",
      "Requirement already satisfied: setuptools in c:\\users\\guzma\\appdata\\local\\programs\\python\\python312\\lib\\site-packages (from torch) (75.1.0)\n",
      "Requirement already satisfied: scipy>=1.6.0 in c:\\users\\guzma\\appdata\\local\\programs\\python\\python312\\lib\\site-packages (from scikit-learn) (1.14.1)\n",
      "Requirement already satisfied: joblib>=1.2.0 in c:\\users\\guzma\\appdata\\local\\programs\\python\\python312\\lib\\site-packages (from scikit-learn) (1.4.2)\n",
      "Requirement already satisfied: threadpoolctl>=3.1.0 in c:\\users\\guzma\\appdata\\local\\programs\\python\\python312\\lib\\site-packages (from scikit-learn) (3.5.0)\n",
      "Requirement already satisfied: python-dateutil>=2.8.2 in c:\\users\\guzma\\appdata\\local\\programs\\python\\python312\\lib\\site-packages (from pandas) (2.9.0.post0)\n",
      "Requirement already satisfied: pytz>=2020.1 in c:\\users\\guzma\\appdata\\local\\programs\\python\\python312\\lib\\site-packages (from pandas) (2024.1)\n",
      "Requirement already satisfied: tzdata>=2022.7 in c:\\users\\guzma\\appdata\\local\\programs\\python\\python312\\lib\\site-packages (from pandas) (2024.1)\n",
      "Requirement already satisfied: six>=1.5 in c:\\users\\guzma\\appdata\\local\\programs\\python\\python312\\lib\\site-packages (from python-dateutil>=2.8.2->pandas) (1.16.0)\n",
      "Requirement already satisfied: colorama in c:\\users\\guzma\\appdata\\local\\programs\\python\\python312\\lib\\site-packages (from tqdm>=4.27->transformers) (0.4.6)\n",
      "Requirement already satisfied: MarkupSafe>=2.0 in c:\\users\\guzma\\appdata\\local\\programs\\python\\python312\\lib\\site-packages (from jinja2->torch) (2.1.5)\n",
      "Requirement already satisfied: charset-normalizer<4,>=2 in c:\\users\\guzma\\appdata\\local\\programs\\python\\python312\\lib\\site-packages (from requests->transformers) (3.3.2)\n",
      "Requirement already satisfied: idna<4,>=2.5 in c:\\users\\guzma\\appdata\\local\\programs\\python\\python312\\lib\\site-packages (from requests->transformers) (3.7)\n",
      "Requirement already satisfied: urllib3<3,>=1.21.1 in c:\\users\\guzma\\appdata\\local\\programs\\python\\python312\\lib\\site-packages (from requests->transformers) (2.2.2)\n",
      "Requirement already satisfied: certifi>=2017.4.17 in c:\\users\\guzma\\appdata\\local\\programs\\python\\python312\\lib\\site-packages (from requests->transformers) (2024.7.4)\n",
      "Requirement already satisfied: mpmath<1.4,>=1.1.0 in c:\\users\\guzma\\appdata\\local\\programs\\python\\python312\\lib\\site-packages (from sympy->torch) (1.3.0)\n"
     ]
    },
    {
     "name": "stderr",
     "output_type": "stream",
     "text": [
      "\n",
      "[notice] A new release of pip is available: 24.0 -> 24.3.1\n",
      "[notice] To update, run: python.exe -m pip install --upgrade pip\n"
     ]
    }
   ],
   "source": [
    "# Instalar dependencias necesarias\n",
    "%pip install transformers torch scikit-learn pandas"
   ]
  },
  {
   "cell_type": "markdown",
   "metadata": {},
   "source": [
    "## 1. Importar Librerías"
   ]
  },
  {
   "cell_type": "code",
   "execution_count": 2,
   "metadata": {},
   "outputs": [
    {
     "name": "stderr",
     "output_type": "stream",
     "text": [
      "c:\\Users\\guzma\\AppData\\Local\\Programs\\Python\\Python312\\Lib\\site-packages\\tqdm\\auto.py:21: TqdmWarning: IProgress not found. Please update jupyter and ipywidgets. See https://ipywidgets.readthedocs.io/en/stable/user_install.html\n",
      "  from .autonotebook import tqdm as notebook_tqdm\n"
     ]
    }
   ],
   "source": [
    "import pandas as pd\n",
    "import torch\n",
    "from transformers import BertTokenizer, BertModel\n",
    "from sklearn.metrics.pairwise import cosine_similarity\n",
    "from sklearn.metrics import f1_score"
   ]
  },
  {
   "cell_type": "markdown",
   "metadata": {},
   "source": [
    "## 2. Cargar el Modelo BETO en Español"
   ]
  },
  {
   "cell_type": "code",
   "execution_count": 3,
   "metadata": {},
   "outputs": [
    {
     "name": "stdout",
     "output_type": "stream",
     "text": [
      "Cargando el modelo y tokenizer...\n"
     ]
    },
    {
     "name": "stderr",
     "output_type": "stream",
     "text": [
      "c:\\Users\\guzma\\AppData\\Local\\Programs\\Python\\Python312\\Lib\\site-packages\\huggingface_hub\\file_download.py:140: UserWarning: `huggingface_hub` cache-system uses symlinks by default to efficiently store duplicated files but your machine does not support them in C:\\Users\\guzma\\.cache\\huggingface\\hub\\models--dccuchile--bert-base-spanish-wwm-cased. Caching files will still work but in a degraded version that might require more space on your disk. This warning can be disabled by setting the `HF_HUB_DISABLE_SYMLINKS_WARNING` environment variable. For more details, see https://huggingface.co/docs/huggingface_hub/how-to-cache#limitations.\n",
      "To support symlinks on Windows, you either need to activate Developer Mode or to run Python as an administrator. In order to activate developer mode, see this article: https://docs.microsoft.com/en-us/windows/apps/get-started/enable-your-device-for-development\n",
      "  warnings.warn(message)\n",
      "Some weights of BertModel were not initialized from the model checkpoint at dccuchile/bert-base-spanish-wwm-cased and are newly initialized: ['bert.pooler.dense.bias', 'bert.pooler.dense.weight']\n",
      "You should probably TRAIN this model on a down-stream task to be able to use it for predictions and inference.\n"
     ]
    },
    {
     "name": "stdout",
     "output_type": "stream",
     "text": [
      "Modelo cargado exitosamente!\n"
     ]
    }
   ],
   "source": [
    "MODEL_NAME = \"dccuchile/bert-base-spanish-wwm-cased\"  # BETO\n",
    "\n",
    "print(\"Cargando el modelo y tokenizer...\")\n",
    "tokenizer = BertTokenizer.from_pretrained(MODEL_NAME)\n",
    "model = BertModel.from_pretrained(MODEL_NAME)\n",
    "print(\"Modelo cargado exitosamente!\")"
   ]
  },
  {
   "cell_type": "markdown",
   "metadata": {},
   "source": [
    "## 3. Cargar el Corpus CSV"
   ]
  },
  {
   "cell_type": "code",
   "execution_count": 4,
   "metadata": {},
   "outputs": [
    {
     "name": "stdout",
     "output_type": "stream",
     "text": [
      "Primeras filas del corpus:\n"
     ]
    },
    {
     "data": {
      "text/html": [
       "<div>\n",
       "<style scoped>\n",
       "    .dataframe tbody tr th:only-of-type {\n",
       "        vertical-align: middle;\n",
       "    }\n",
       "\n",
       "    .dataframe tbody tr th {\n",
       "        vertical-align: top;\n",
       "    }\n",
       "\n",
       "    .dataframe thead th {\n",
       "        text-align: right;\n",
       "    }\n",
       "</style>\n",
       "<table border=\"1\" class=\"dataframe\">\n",
       "  <thead>\n",
       "    <tr style=\"text-align: right;\">\n",
       "      <th></th>\n",
       "      <th>Source</th>\n",
       "      <th>Title</th>\n",
       "      <th>Content</th>\n",
       "      <th>Section</th>\n",
       "      <th>URL</th>\n",
       "      <th>Date</th>\n",
       "    </tr>\n",
       "  </thead>\n",
       "  <tbody>\n",
       "    <tr>\n",
       "      <th>0</th>\n",
       "      <td>Jornada</td>\n",
       "      <td>Récord de 96 mil asistentes para pelea Dubois ...</td>\n",
       "      <td>Londres. Daniel Dubois, nueva estrella del box...</td>\n",
       "      <td>Sports</td>\n",
       "      <td>https://www.jornada.com.mx/2024/09/21/deportes...</td>\n",
       "      <td>21/09/2024</td>\n",
       "    </tr>\n",
       "    <tr>\n",
       "      <th>1</th>\n",
       "      <td>Jornada</td>\n",
       "      <td>América  no está  para formar jugadores, dice ...</td>\n",
       "      <td>Siendo el América uno de los clubes que menos ...</td>\n",
       "      <td>Sports</td>\n",
       "      <td>https://www.jornada.com.mx/2024/09/21/deportes...</td>\n",
       "      <td>21/09/2024</td>\n",
       "    </tr>\n",
       "    <tr>\n",
       "      <th>2</th>\n",
       "      <td>Jornada</td>\n",
       "      <td>Fátima Herrera, sin miedo a nada,  hizo histor...</td>\n",
       "      <td>El surgimiento de referentes en el deporte de ...</td>\n",
       "      <td>Sports</td>\n",
       "      <td>https://www.jornada.com.mx/2024/09/21/deportes...</td>\n",
       "      <td>21/09/2024</td>\n",
       "    </tr>\n",
       "    <tr>\n",
       "      <th>3</th>\n",
       "      <td>Jornada</td>\n",
       "      <td>Pumas femenil deja escapar los tres puntos en CU</td>\n",
       "      <td>Pese a generar diversas oportunidades de gol, ...</td>\n",
       "      <td>Sports</td>\n",
       "      <td>https://www.jornada.com.mx/2024/09/21/deportes...</td>\n",
       "      <td>21/09/2024</td>\n",
       "    </tr>\n",
       "    <tr>\n",
       "      <th>4</th>\n",
       "      <td>Jornada</td>\n",
       "      <td>Cae dupla Zverev-Alcaraz</td>\n",
       "      <td>La dupla Carlos Alcaraz-Alexander Zverev cayó ...</td>\n",
       "      <td>Sports</td>\n",
       "      <td>https://www.jornada.com.mx/2024/09/21/deportes...</td>\n",
       "      <td>21/09/2024</td>\n",
       "    </tr>\n",
       "  </tbody>\n",
       "</table>\n",
       "</div>"
      ],
      "text/plain": [
       "    Source                                              Title  \\\n",
       "0  Jornada  Récord de 96 mil asistentes para pelea Dubois ...   \n",
       "1  Jornada  América  no está  para formar jugadores, dice ...   \n",
       "2  Jornada  Fátima Herrera, sin miedo a nada,  hizo histor...   \n",
       "3  Jornada   Pumas femenil deja escapar los tres puntos en CU   \n",
       "4  Jornada                           Cae dupla Zverev-Alcaraz   \n",
       "\n",
       "                                             Content Section  \\\n",
       "0  Londres. Daniel Dubois, nueva estrella del box...  Sports   \n",
       "1  Siendo el América uno de los clubes que menos ...  Sports   \n",
       "2  El surgimiento de referentes en el deporte de ...  Sports   \n",
       "3  Pese a generar diversas oportunidades de gol, ...  Sports   \n",
       "4  La dupla Carlos Alcaraz-Alexander Zverev cayó ...  Sports   \n",
       "\n",
       "                                                 URL        Date  \n",
       "0  https://www.jornada.com.mx/2024/09/21/deportes...  21/09/2024  \n",
       "1  https://www.jornada.com.mx/2024/09/21/deportes...  21/09/2024  \n",
       "2  https://www.jornada.com.mx/2024/09/21/deportes...  21/09/2024  \n",
       "3  https://www.jornada.com.mx/2024/09/21/deportes...  21/09/2024  \n",
       "4  https://www.jornada.com.mx/2024/09/21/deportes...  21/09/2024  "
      ]
     },
     "execution_count": 4,
     "metadata": {},
     "output_type": "execute_result"
    }
   ],
   "source": [
    "# Cargar el archivo CSV\n",
    "file_path = \"../../../data/raw_data_corpus.csv\"  # Reemplaza con la ruta de tu archivo CSV\n",
    "\n",
    "df = pd.read_csv(file_path)\n",
    "print(\"Primeras filas del corpus:\")\n",
    "df.head()"
   ]
  },
  {
   "cell_type": "markdown",
   "metadata": {},
   "source": [
    "## 4. Generar los Embeddings BERT del Corpus"
   ]
  },
  {
   "cell_type": "code",
   "execution_count": 5,
   "metadata": {},
   "outputs": [
    {
     "name": "stdout",
     "output_type": "stream",
     "text": [
      "Generando embeddings para el corpus...\n",
      "Embeddings generados!\n"
     ]
    }
   ],
   "source": [
    "# Combinar columnas Title y Content para el procesamiento\n",
    "corpus = df[\"Content\"].fillna(\"\") + \" \" + df[\"Title\"].fillna(\"\")\n",
    "\n",
    "# Función para obtener embeddings BERT\n",
    "def get_bert_embedding(text):\n",
    "    inputs = tokenizer(text, return_tensors=\"pt\", truncation=True, max_length=512)\n",
    "    with torch.no_grad():\n",
    "        outputs = model(**inputs)\n",
    "    return outputs.last_hidden_state.mean(dim=1).numpy()  # Promediar los embeddings\n",
    "\n",
    "# Generar embeddings del corpus\n",
    "print(\"Generando embeddings para el corpus...\")\n",
    "corpus_embeddings = [get_bert_embedding(text) for text in corpus]\n",
    "print(\"Embeddings generados!\")"
   ]
  },
  {
   "cell_type": "markdown",
   "metadata": {},
   "source": [
    "## 5. Función de Búsqueda de Textos Similares"
   ]
  },
  {
   "cell_type": "code",
   "execution_count": 10,
   "metadata": {},
   "outputs": [],
   "source": [
    "def get_search_results(input_text, top_n=3):\n",
    "    if input_text.strip() == \"\":\n",
    "        return []\n",
    "    \n",
    "    # Obtener embedding para la consulta\n",
    "    query_embedding = get_bert_embedding(input_text)\n",
    "    \n",
    "    # Calcular similitud coseno\n",
    "    similarities = [cosine_similarity(query_embedding, doc_emb)[0][0] for doc_emb in corpus_embeddings]\n",
    "    \n",
    "    # Ordenar resultados por similitud\n",
    "    sorted_indices = sorted(range(len(similarities)), key=lambda i: similarities[i], reverse=True)\n",
    "    \n",
    "    # Retornar los títulos y puntuaciones\n",
    "    results = []\n",
    "    for i in sorted_indices[:top_n]:\n",
    "        results.append([df.loc[i, \"Title\"], similarities[i]])\n",
    "    \n",
    "    return results"
   ]
  },
  {
   "cell_type": "markdown",
   "metadata": {},
   "source": [
    "## 6. Probar la Función de Búsqueda"
   ]
  },
  {
   "cell_type": "code",
   "execution_count": 13,
   "metadata": {},
   "outputs": [
    {
     "name": "stdout",
     "output_type": "stream",
     "text": [
      "Resultados para la consulta: 'Esta es la audiencia que quiere conquistar el iPhone 16 Apple es consciente de que muchos usuarios de iPhone 15 difícilmente van a renovar su smartphone'\n",
      "\n",
      "- Esta es la audiencia que quiere conquistar el iPhone 16 (Similitud: 0.9826)\n",
      "- ¿Cuánto me da Apple por mi iPhone para abonar en la compra de uno nuevo? (Similitud: 0.9354)\n",
      "- iOS 18, qué incluye esta nueva versión y cómo actualizar tu iPhone (Similitud: 0.9329)\n"
     ]
    }
   ],
   "source": [
    "# Prueba de búsqueda\n",
    "query = \"Esta es la audiencia que quiere conquistar el iPhone 16 Apple es consciente de que muchos usuarios de iPhone 15 difícilmente van a renovar su smartphone\"\n",
    "print(f\"Resultados para la consulta: '{query}'\\n\")\n",
    "\n",
    "results = get_search_results(query)\n",
    "for title, score in results:\n",
    "    print(f\"- {title} (Similitud: {score:.4f})\")"
   ]
  },
  {
   "cell_type": "markdown",
   "metadata": {},
   "source": [
    "## 7. Evaluación del Modelo con F1-Score (Opcional)"
   ]
  },
  {
   "cell_type": "code",
   "execution_count": 12,
   "metadata": {},
   "outputs": [
    {
     "name": "stdout",
     "output_type": "stream",
     "text": [
      "\n",
      "F1-Score: 0.2500\n"
     ]
    }
   ],
   "source": [
    "def evaluate_f1_score(true_titles, predicted_titles):\n",
    "    y_true = [1 if title in true_titles else 0 for title in predicted_titles]\n",
    "    y_pred = [1] * len(predicted_titles)\n",
    "    return f1_score(y_true, y_pred, average=\"macro\")\n",
    "\n",
    "# Ejemplo de uso (ground truth necesario)\n",
    "true_titles = [\"Récord de 96 mil asistentes para pelea Dubois contra Joshua hoy en Wembley\"]\n",
    "predicted_titles = [result[0] for result in results]\n",
    "f1 = evaluate_f1_score(true_titles, predicted_titles)\n",
    "print(f\"\\nF1-Score: {f1:.4f}\")"
   ]
  }
 ],
 "metadata": {
  "kernelspec": {
   "display_name": "Python 3",
   "language": "python",
   "name": "python3"
  },
  "language_info": {
   "codemirror_mode": {
    "name": "ipython",
    "version": 3
   },
   "file_extension": ".py",
   "mimetype": "text/x-python",
   "name": "python",
   "nbconvert_exporter": "python",
   "pygments_lexer": "ipython3",
   "version": "3.12.4"
  }
 },
 "nbformat": 4,
 "nbformat_minor": 4
}
